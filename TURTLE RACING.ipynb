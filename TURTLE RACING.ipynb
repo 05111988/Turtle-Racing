{
 "cells": [
  {
   "cell_type": "code",
   "execution_count": 7,
   "id": "96b8770e-6aa6-496c-b1f1-bf42a28a61a8",
   "metadata": {},
   "outputs": [],
   "source": [
    "from turtle import Turtle, Screen\n",
    "tim = Turtle()\n",
    "screen = Screen()\n",
    "\n",
    "def move_forwards():\n",
    "    tim.forward(10)\n",
    "def move_backwards():\n",
    "    tim.backward(10)\n",
    "def turn_left():\n",
    "    new_heading = tim.heading() + 10\n",
    "    tim.setheading(new_heading)\n",
    "def turn_right():\n",
    "    new_heading = tim.heading() - 10\n",
    "    tim.setheading(new_heading)\n",
    "def clear():\n",
    "    tim.clear()\n",
    "    tim.penup()\n",
    "    tim.home()\n",
    "    tim.pendown()\n",
    "\n",
    "\n",
    "screen.listen()\n",
    "screen.onkey(move_forwards, \"w\")\n",
    "screen.onkey(move_backwards, \"s\")\n",
    "screen.onkey(turn_left, \"a\")\n",
    "screen.onkey(turn_right, \"d\")\n",
    "screen.onkey(clear, \"c\")\n",
    "screen.exitonclick()\n"
   ]
  },
  {
   "cell_type": "code",
   "execution_count": null,
   "id": "c541b167-5c3c-42c0-ae32-a149a63a4487",
   "metadata": {},
   "outputs": [
    {
     "name": "stdout",
     "output_type": "stream",
     "text": [
      "You've lost! The green turtle is the winner!\n"
     ]
    }
   ],
   "source": [
    "from turtle import Turtle, Screen\n",
    "import random\n",
    "\n",
    "is_race_on = False\n",
    "screen = Screen()\n",
    "screen.setup(width=500, height=400)\n",
    "user_bet = screen.textinput(title=\"Make a bet\", prompt=\"Which turtle win the race? Enter a color: \")\n",
    "colors = [\"red\", \"orange\", \"yellow\", \"green\", \"blue\", \"purple\"]  \n",
    "y_positions = [-70, -40, -10, 20, 50, 80]\n",
    "all_turtles = []\n",
    "\n",
    "for turtle_index in range(0,6):\n",
    "    new_turtle = Turtle(shape=\"turtle\")\n",
    "    new_turtle.penup()\n",
    "    new_turtle.color(colors[turtle_index])\n",
    "    new_turtle.goto(x=-230, y=y_positions[turtle_index])\n",
    "    all_turtles.append(new_turtle)\n",
    "\n",
    "if user_bet:\n",
    "    is_race_on = True\n",
    "\n",
    "while is_race_on:\n",
    "    \n",
    "\n",
    "    for turtle in all_turtles:\n",
    "        if turtle.xcor() > 230:\n",
    "            is_race_on = False\n",
    "            winning_color = turtle.pencolor()\n",
    "            if winning_color == user_bet:\n",
    "                print(f\"You've won! The {winning_color} turtle is the winner!\")\n",
    "            else:\n",
    "                print(f\"You've lost! The {winning_color} turtle is the winner!\")\n",
    "        rand_distance = random.randint(0,10)\n",
    "        turtle.forward(rand_distance)\n",
    "    \n",
    "\n",
    "\n",
    "\n",
    "\n",
    "screen.exitonclick()"
   ]
  },
  {
   "cell_type": "code",
   "execution_count": null,
   "id": "ab964c58-f03d-49bf-a7d7-692269845e5d",
   "metadata": {},
   "outputs": [],
   "source": []
  }
 ],
 "metadata": {
  "kernelspec": {
   "display_name": "Python 3 (ipykernel)",
   "language": "python",
   "name": "python3"
  },
  "language_info": {
   "codemirror_mode": {
    "name": "ipython",
    "version": 3
   },
   "file_extension": ".py",
   "mimetype": "text/x-python",
   "name": "python",
   "nbconvert_exporter": "python",
   "pygments_lexer": "ipython3",
   "version": "3.13.3"
  }
 },
 "nbformat": 4,
 "nbformat_minor": 5
}
